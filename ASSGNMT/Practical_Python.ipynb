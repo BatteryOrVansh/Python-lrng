{
  "cells": [
    {
      "cell_type": "markdown",
      "metadata": {
        "id": "pNtMkP3dc0m2"
      },
      "source": [
        "## Solve the Assignment Data is Given in the code you can run the code and get relvent data"
      ]
    },
    {
      "cell_type": "code",
      "execution_count": 1,
      "metadata": {
        "id": "gi0Pj0bocooB"
      },
      "outputs": [
        {
          "name": "stderr",
          "output_type": "stream",
          "text": [
            "C:\\Users\\Vansh Dixit\\AppData\\Local\\Temp\\ipykernel_250996\\2297377808.py:1: DeprecationWarning: \n",
            "Pyarrow will become a required dependency of pandas in the next major release of pandas (pandas 3.0),\n",
            "(to allow more performant data types, such as the Arrow string type, and better interoperability with other libraries)\n",
            "but was not found to be installed on your system.\n",
            "If this would cause problems for you,\n",
            "please provide us feedback at https://github.com/pandas-dev/pandas/issues/54466\n",
            "        \n",
            "  import pandas as pd\n"
          ]
        }
      ],
      "source": [
        "import pandas as pd\n",
        "\n",
        "# Sample customer data\n",
        "data = {\n",
        "    'name': ['Alice', 'Bob', 'Charlie', 'David', 'Emily'],\n",
        "    'age': [25, 30, 22, 40, 18],\n",
        "    'city': ['New York', 'London', 'Paris', 'Tokyo', 'Los Angeles']\n",
        "}\n",
        "\n",
        "df = pd.DataFrame(data)\n",
        "\n",
        "\n",
        "\n",
        "import numpy as np\n",
        "\n",
        "# Sample data with missing values\n",
        "data2 = {\n",
        "    'product': ['A', 'B', 'C', 'A', 'B', None],\n",
        "    'price': [10, 15, None, 20, 25, 30],\n",
        "    'category': ['Electronics', 'Electronics', 'Clothing', 'Electronics', 'Clothing', 'Home']\n",
        "}\n",
        "\n",
        "df2 = pd.DataFrame(data2)\n",
        "\n"
      ]
    },
    {
      "cell_type": "markdown",
      "metadata": {
        "id": "JAmgNa3jZkSY"
      },
      "source": [
        "1. Write a Python program that uses the interpreter interactively to calculate the area of rectengle and area of square."
      ]
    },
    {
      "cell_type": "code",
      "execution_count": 2,
      "metadata": {},
      "outputs": [
        {
          "name": "stdout",
          "output_type": "stream",
          "text": [
            "choose 1 for area of rectangle\n",
            "choose 2 for area of square\n"
          ]
        },
        {
          "ename": "ValueError",
          "evalue": "invalid literal for int() with base 10: ''",
          "output_type": "error",
          "traceback": [
            "\u001b[1;31m---------------------------------------------------------------------------\u001b[0m",
            "\u001b[1;31mValueError\u001b[0m                                Traceback (most recent call last)",
            "Cell \u001b[1;32mIn[2], line 12\u001b[0m\n\u001b[0;32m      9\u001b[0m \u001b[38;5;28mprint\u001b[39m(\u001b[38;5;124m'\u001b[39m\u001b[38;5;124mchoose 1 for area of rectangle\u001b[39m\u001b[38;5;124m'\u001b[39m)\n\u001b[0;32m     10\u001b[0m \u001b[38;5;28mprint\u001b[39m(\u001b[38;5;124m'\u001b[39m\u001b[38;5;124mchoose 2 for area of square\u001b[39m\u001b[38;5;124m'\u001b[39m)\n\u001b[1;32m---> 12\u001b[0m choice\u001b[38;5;241m=\u001b[39m\u001b[38;5;28;43mint\u001b[39;49m\u001b[43m(\u001b[49m\u001b[38;5;28;43minput\u001b[39;49m\u001b[43m(\u001b[49m\u001b[38;5;124;43m'\u001b[39;49m\u001b[38;5;124;43menter ur choice : \u001b[39;49m\u001b[38;5;124;43m'\u001b[39;49m\u001b[43m)\u001b[49m\u001b[43m)\u001b[49m\n\u001b[0;32m     13\u001b[0m \u001b[38;5;28;01mif\u001b[39;00m choice\u001b[38;5;241m==\u001b[39m\u001b[38;5;241m1\u001b[39m:\n\u001b[0;32m     14\u001b[0m     l\u001b[38;5;241m=\u001b[39m\u001b[38;5;28mfloat\u001b[39m(\u001b[38;5;28minput\u001b[39m(\u001b[38;5;124m'\u001b[39m\u001b[38;5;124menter the length of the rectangle : \u001b[39m\u001b[38;5;124m'\u001b[39m))\n",
            "\u001b[1;31mValueError\u001b[0m: invalid literal for int() with base 10: ''"
          ]
        }
      ],
      "source": [
        "def rec(l,b):\n",
        "    return l*b\n",
        "\n",
        "def sqr(a):\n",
        "    return a**2\n",
        "\n",
        "\n",
        "while True:\n",
        "    print('choose 1 for area of rectangle')\n",
        "    print('choose 2 for area of square')\n",
        "\n",
        "    choice=int(input('enter ur choice : '))\n",
        "    if choice==1:\n",
        "        l=float(input('enter the length of the rectangle : '))\n",
        "        b=float(input('enter the breadth of the rectangle : '))\n",
        "        ar=rec(l,b)\n",
        "        print('the area of the rectangle is : ', ar)\n",
        "\n",
        "    elif choice==2:\n",
        "        a=float(input('enter the side length of the square : '))\n",
        "        ar=sqr(a)\n",
        "        print('the area of the square is : ', ar)\n",
        "\n",
        "    else: \n",
        "        print('enter a number between 1 or 2')\n",
        "    \n",
        "    ch=input('do you want to continue (Y/N) : ')\n",
        "    if ch in ['N','n']:\n",
        "        break\n"
      ]
    },
    {
      "cell_type": "markdown",
      "metadata": {
        "id": "hC_oBHBUZv7Z"
      },
      "source": [
        "2. Create Python variables to store your name, age, and favorite food. Print a sentence combining these variables using string formatting"
      ]
    },
    {
      "cell_type": "code",
      "execution_count": null,
      "metadata": {
        "id": "8yZ7Asg9aCCz"
      },
      "outputs": [],
      "source": [
        "name=input('enter ur name : ')\n",
        "age=int(input('enter ur age : '))\n",
        "fav_food = input('enter ur fav food : ')\n",
        "\n",
        "print('hi, my namm is ',name, 'my age is ',age, 'and my favourite food is ',fav_food)"
      ]
    },
    {
      "cell_type": "markdown",
      "metadata": {
        "id": "3GaEN7a6aC41"
      },
      "source": [
        "3. Write a Python program that takes two numbers as input from the user and performs all basic arithmetic operations (addition, subtraction, multiplication, division) on them."
      ]
    },
    {
      "cell_type": "code",
      "execution_count": null,
      "metadata": {},
      "outputs": [],
      "source": [
        "def add(a,b):\n",
        "    return a+b\n",
        "def sub(a,b):\n",
        "    return a-b\n",
        "def mul(a,b):\n",
        "    return a*b\n",
        "def div(a,b):\n",
        "    return a/b\n",
        "while True:\n",
        "    a=int(input('enter ur first no. : '))\n",
        "    b=int(input('enter ur second no. : '))\n",
        "    print('')\n",
        "    print('choose 1 for addition')\n",
        "    print('choose 2 for subtraction')\n",
        "    print('choose 3 for multiplication')\n",
        "    print('choose 4 for division')\n",
        "    print('')\n",
        "    choice=int(input('enter ur choice: '))\n",
        "    if choice==1:\n",
        "        add=add(a,b)\n",
        "        print('sum of the two numbers is : ',add)\n",
        "    elif choice==2:\n",
        "        sub=sub(a,b)\n",
        "        print('difference of the two numbers is : ',sub)\n",
        "    elif choice==3: \n",
        "        mul=mul(a,b)\n",
        "        print('product of the two numbers is : ',mul)\n",
        "    elif choice==4:\n",
        "        div=div(a,b)\n",
        "        print('division of the two numbers is : ',div)\n",
        "    else:\n",
        "        print('enter appropriate choice')\n",
        "    ch=input('do u wanna continue (Y/N) : ')\n",
        "    if ch in ['N','n']:\n",
        "        break\n",
        "        \n",
        "    \n",
        "    \n",
        "\n",
        "    \n",
        "    "
      ]
    },
    {
      "cell_type": "markdown",
      "metadata": {
        "id": "nn4VDwxeaJQS"
      },
      "source": [
        "4. Write a Python program that checks if a given number is even or odd using an if statement."
      ]
    },
    {
      "cell_type": "code",
      "execution_count": null,
      "metadata": {
        "id": "BCbs36RaaOlj"
      },
      "outputs": [],
      "source": [
        "n=int(input('enter ur number : '))\n",
        "if n%2==0:\n",
        "    print('the number is even')\n",
        "else:\n",
        "    print('the number is odd')\n",
        "    "
      ]
    },
    {
      "cell_type": "markdown",
      "metadata": {
        "id": "RsYpLHuiaPWi"
      },
      "source": [
        "5. Write a Python program that prints the first 10 natural numbers using a while loop."
      ]
    },
    {
      "cell_type": "code",
      "execution_count": null,
      "metadata": {
        "id": "S2qcGtd7aSgX"
      },
      "outputs": [],
      "source": [
        "a=1\n",
        "while a<=10:\n",
        "    print(a)\n",
        "    a=a+1"
      ]
    },
    {
      "cell_type": "markdown",
      "metadata": {
        "id": "EknM-WFlaTLv"
      },
      "source": [
        "6. Create a Python list containing the names of your favorite movies. Write code to access and print the second element in the list."
      ]
    },
    {
      "cell_type": "code",
      "execution_count": null,
      "metadata": {
        "id": "G6ydwnuTaW9C"
      },
      "outputs": [],
      "source": [
        "movies=['fight club','joker','avengers','american psycho','interstellar','taxi driver','wolf of the wall street']\n",
        "print(movies[1])"
      ]
    },
    {
      "cell_type": "markdown",
      "metadata": {
        "id": "OcXwOpatadxf"
      },
      "source": [
        "7. Write a Python function that takes a string as input and returns the number of uppercase and lowercase letters in the string."
      ]
    },
    {
      "cell_type": "code",
      "execution_count": null,
      "metadata": {
        "id": "hy1dVzgYafYy"
      },
      "outputs": [],
      "source": [
        "input_str=input('enter a string : ')\n",
        "up=0\n",
        "low=0\n",
        "for i in str:\n",
        "    if i.isupper():\n",
        "        up+=1\n",
        "    elif i.islower():\n",
        "        low+=1\n",
        "    \n",
        "print('the number of uppercase letters :',up)\n",
        "print('the number of lowercase letters :',low)\n",
        "\n"
      ]
    },
    {
      "cell_type": "markdown",
      "metadata": {
        "id": "XdWNuSnSayow"
      },
      "source": [
        "8. Create a DataFrame from a given dictionary containing customer information (name, age, city). Display the first 5 rows and basic information about the DataFrame (shape, data types)."
      ]
    },
    {
      "cell_type": "code",
      "execution_count": null,
      "metadata": {
        "id": "7yq-lAZeaz7I"
      },
      "outputs": [
        {
          "name": "stdout",
          "output_type": "stream",
          "text": [
            "top 5 data \n",
            "       name  age         city\n",
            "0    Alice   25     New York\n",
            "1      Bob   30       London\n",
            "2  Charlie   22        Paris\n",
            "3    David   40        Tokyo\n",
            "4    Emily   18  Los Angeles \n",
            "\n",
            "shape of data \n",
            " (5, 3) \n",
            "\n",
            "<class 'pandas.core.frame.DataFrame'>\n",
            "RangeIndex: 5 entries, 0 to 4\n",
            "Data columns (total 3 columns):\n",
            " #   Column  Non-Null Count  Dtype \n",
            "---  ------  --------------  ----- \n",
            " 0   name    5 non-null      object\n",
            " 1   age     5 non-null      int64 \n",
            " 2   city    5 non-null      object\n",
            "dtypes: int64(1), object(2)\n",
            "memory usage: 252.0+ bytes\n",
            "info about data \n",
            " None\n"
          ]
        }
      ],
      "source": [
        "# data given above\n",
        "print('top 5 data', '\\n', df.head(5),'\\n')\n",
        "\n",
        "print('shape of data','\\n',df.shape,'\\n')\n",
        "\n",
        "print('info about data','\\n',df.info())\n",
        "\n",
        "\n"
      ]
    },
    {
      "cell_type": "markdown",
      "metadata": {
        "id": "oI63xpBva8sD"
      },
      "source": [
        "9. Import a sample dataset (e.g., CSV file) using Pandas. Select specific columns (e.g., 'name' and 'age') and display them."
      ]
    },
    {
      "cell_type": "code",
      "execution_count": 3,
      "metadata": {
        "id": "J3g1BIIka9_R"
      },
      "outputs": [
        {
          "name": "stdout",
          "output_type": "stream",
          "text": [
            "      name  age\n",
            "0     alex   22\n",
            "1  william   27\n",
            "2    tyler   25\n",
            "3   jeremy   32\n",
            "4  michael   45\n",
            "5    casey   36\n",
            "6      bob   24\n",
            "7  william   39\n"
          ]
        }
      ],
      "source": [
        "data_frame=pd.read_csv(r\"C:\\Users\\Vansh Dixit\\OneDrive\\Desktop\\Code\\Python-lrng\\csv nd xlsx\\sample_data.csv\")\n",
        "print(data_frame[['name','age']])"
      ]
    },
    {
      "cell_type": "markdown",
      "metadata": {
        "id": "eBECHSdUbCHB"
      },
      "source": [
        "10. Add a new column to the DataFrame calculated as the square of another column. Rename existing columns if necessary.\n"
      ]
    },
    {
      "cell_type": "code",
      "execution_count": null,
      "metadata": {
        "id": "JSCrwVE8bDmr"
      },
      "outputs": [],
      "source": []
    },
    {
      "cell_type": "markdown",
      "metadata": {
        "id": "eC2FN2mLbL1U"
      },
      "source": [
        "11. Select rows where a specific condition is met (e.g., age greater than 18). Filter the DataFrame based on multiple criteria (e.g., age between 25 and 30, city containing 'New York')."
      ]
    },
    {
      "cell_type": "code",
      "execution_count": 5,
      "metadata": {
        "id": "apfRgZuzbQ9d"
      },
      "outputs": [
        {
          "data": {
            "text/html": [
              "<div>\n",
              "<style scoped>\n",
              "    .dataframe tbody tr th:only-of-type {\n",
              "        vertical-align: middle;\n",
              "    }\n",
              "\n",
              "    .dataframe tbody tr th {\n",
              "        vertical-align: top;\n",
              "    }\n",
              "\n",
              "    .dataframe thead th {\n",
              "        text-align: right;\n",
              "    }\n",
              "</style>\n",
              "<table border=\"1\" class=\"dataframe\">\n",
              "  <thead>\n",
              "    <tr style=\"text-align: right;\">\n",
              "      <th></th>\n",
              "      <th>name</th>\n",
              "      <th>age</th>\n",
              "      <th>city</th>\n",
              "    </tr>\n",
              "  </thead>\n",
              "  <tbody>\n",
              "    <tr>\n",
              "      <th>0</th>\n",
              "      <td>Alice</td>\n",
              "      <td>25</td>\n",
              "      <td>New York</td>\n",
              "    </tr>\n",
              "    <tr>\n",
              "      <th>1</th>\n",
              "      <td>Bob</td>\n",
              "      <td>30</td>\n",
              "      <td>London</td>\n",
              "    </tr>\n",
              "    <tr>\n",
              "      <th>2</th>\n",
              "      <td>Charlie</td>\n",
              "      <td>22</td>\n",
              "      <td>Paris</td>\n",
              "    </tr>\n",
              "    <tr>\n",
              "      <th>3</th>\n",
              "      <td>David</td>\n",
              "      <td>40</td>\n",
              "      <td>Tokyo</td>\n",
              "    </tr>\n",
              "    <tr>\n",
              "      <th>4</th>\n",
              "      <td>Emily</td>\n",
              "      <td>18</td>\n",
              "      <td>Los Angeles</td>\n",
              "    </tr>\n",
              "  </tbody>\n",
              "</table>\n",
              "</div>"
            ],
            "text/plain": [
              "      name  age         city\n",
              "0    Alice   25     New York\n",
              "1      Bob   30       London\n",
              "2  Charlie   22        Paris\n",
              "3    David   40        Tokyo\n",
              "4    Emily   18  Los Angeles"
            ]
          },
          "execution_count": 5,
          "metadata": {},
          "output_type": "execute_result"
        }
      ],
      "source": [
        "df\n"
      ]
    },
    {
      "cell_type": "markdown",
      "metadata": {
        "id": "JptAGd_zbXhx"
      },
      "source": [
        "12. Handle missing values in your DataFrame. Impute missing values with a specific value (e.g., mean, median) or drop rows/columns containing missing data."
      ]
    },
    {
      "cell_type": "code",
      "execution_count": null,
      "metadata": {
        "id": "LkP9ti4XbY9Y"
      },
      "outputs": [],
      "source": []
    },
    {
      "cell_type": "markdown",
      "metadata": {
        "id": "HZyemnFMbcCG"
      },
      "source": [
        "13. Remove duplicate rows from the DataFrame. Optionally, keep only the first or last occurrence of duplicates."
      ]
    },
    {
      "cell_type": "code",
      "execution_count": null,
      "metadata": {
        "id": "sscb6bphbc8m"
      },
      "outputs": [],
      "source": []
    },
    {
      "cell_type": "markdown",
      "metadata": {
        "id": "b0qyedpFbdYE"
      },
      "source": [
        "14. Clean text data in a column by removing leading/trailing whitespaces, converting to uppercase/lowercase."
      ]
    },
    {
      "cell_type": "code",
      "execution_count": null,
      "metadata": {
        "id": "LM-WRYfIbl8q"
      },
      "outputs": [],
      "source": []
    },
    {
      "cell_type": "markdown",
      "metadata": {
        "id": "pU-go9KzbmiJ"
      },
      "source": [
        "15. Group data by a specific column and calculate descriptive statistics (mean, standard deviation, count) for each group."
      ]
    },
    {
      "cell_type": "code",
      "execution_count": null,
      "metadata": {
        "id": "m1HxuF5cbtnw"
      },
      "outputs": [],
      "source": []
    },
    {
      "cell_type": "markdown",
      "metadata": {
        "id": "RvqYTlNmbuHR"
      },
      "source": [
        "16. Sort the DataFrame by one or more columns (ascending/descending order)."
      ]
    },
    {
      "cell_type": "code",
      "execution_count": null,
      "metadata": {
        "id": "D2zoyZ4Ybz2x"
      },
      "outputs": [],
      "source": []
    },
    {
      "cell_type": "markdown",
      "metadata": {
        "id": "-jOEJwG1b9OY"
      },
      "source": [
        "17. Calculate summary statistics for numerical columns (mean, median, standard deviation, quartiles) using describe() or specific methods."
      ]
    },
    {
      "cell_type": "code",
      "execution_count": null,
      "metadata": {
        "id": "V86grkvKb-HC"
      },
      "outputs": [],
      "source": []
    },
    {
      "cell_type": "markdown",
      "metadata": {
        "id": "8UgvirN8cDFW"
      },
      "source": [
        "18. Create new columns derived from existing data (e.g., calculate age groups based on age ranges)."
      ]
    },
    {
      "cell_type": "code",
      "execution_count": null,
      "metadata": {
        "id": "BPwYahMbcD7p"
      },
      "outputs": [],
      "source": []
    },
    {
      "cell_type": "markdown",
      "metadata": {
        "id": "Ezw9-U2UcHZQ"
      },
      "source": [
        "19. Perform aggregations on grouped data (e.g., calculate total sales per product category). Apply aggregation functions with groupby() and agg()."
      ]
    },
    {
      "cell_type": "code",
      "execution_count": null,
      "metadata": {
        "id": "MLunKydacUXa"
      },
      "outputs": [],
      "source": []
    },
    {
      "cell_type": "markdown",
      "metadata": {
        "id": "k5myjxk-cP0h"
      },
      "source": [
        "20. Merge two DataFrames based on a common column using appropriate technique"
      ]
    },
    {
      "cell_type": "code",
      "execution_count": null,
      "metadata": {
        "id": "um3evjG7cT3t"
      },
      "outputs": [],
      "source": []
    },
    {
      "cell_type": "markdown",
      "metadata": {
        "id": "TNEYQgLsdLqH"
      },
      "source": [
        "21. Uses a for loop to iterate through a range of numbers (1 to 10).\n",
        "Inside the loop, print the current number multiplied by 2."
      ]
    },
    {
      "cell_type": "code",
      "execution_count": null,
      "metadata": {
        "id": "gmy_bufOdMy1"
      },
      "outputs": [],
      "source": []
    },
    {
      "cell_type": "markdown",
      "metadata": {
        "id": "VElpG2WndV3H"
      },
      "source": [
        "22. Guessing Game:\n",
        "\n",
        "Create a Python program for a simple guessing game:\n",
        "\n",
        "Generate a random number between 1 and 100 (use the random module).\n",
        "Allow the user to guess the number within 5 attempts.\n",
        "Use a while loop to keep track of the number of attempts.\n",
        "Inside the loop, get the user's guess as an integer using int(input()).\n",
        "Use if statements to check if the guess is correct, too high, or too low.\n",
        "Provide feedback to the user after each guess, indicating if they need to go higher or lower.\n",
        "If the user guesses correctly within the allowed attempts, print a congratulatory message.\n",
        "If the user fails to guess correctly within 5 attempts, print a message indicating they ran out of chances."
      ]
    },
    {
      "cell_type": "code",
      "execution_count": null,
      "metadata": {
        "id": "EVBFsJFBdXBS"
      },
      "outputs": [],
      "source": []
    },
    {
      "cell_type": "markdown",
      "metadata": {
        "id": "XHylgq2YdaPD"
      },
      "source": [
        "23. Finding Even Numbers:\n",
        "\n",
        "Write a Python program that:\n",
        "\n",
        "Takes a list of integers as input from the user.\n",
        "Use a for loop to iterate through the list.\n",
        "Inside the loop, use an if statement to check if the current number is even (use the modulo operator %).\n",
        "If the number is even, print it to the console.\n"
      ]
    },
    {
      "cell_type": "code",
      "execution_count": null,
      "metadata": {
        "id": "6sdLsaUDdbQG"
      },
      "outputs": [],
      "source": []
    },
    {
      "cell_type": "markdown",
      "metadata": {
        "id": "d8nhczZ1dk9h"
      },
      "source": [
        "24. Password Checker:\n",
        "\n",
        "Create a Python program for a password checker:\n",
        "\n",
        "Define a variable containing the correct password (e.g., \"secret123\").\n",
        "Prompt the user to enter their password.\n",
        "Use an if statement to check if the entered password matches the correct one.\n",
        "If the passwords match, print a message indicating successful login.\n",
        "If the passwords don't match, use an else statement to print a message indicating incorrect login and allow the user to try again (maximum 3 attempts).\n"
      ]
    },
    {
      "cell_type": "code",
      "execution_count": null,
      "metadata": {
        "id": "k1ptRaDNdl_U"
      },
      "outputs": [],
      "source": []
    },
    {
      "cell_type": "markdown",
      "metadata": {
        "id": "DsCgcUkcdpXn"
      },
      "source": [
        "25. Discount Calculator:\n",
        "\n",
        "Write a Python program that calculates a discount on a product based on its price and discount rate:\n",
        "\n",
        "Prompt the user to enter the product price as a float.\n",
        "Prompt the user to enter the discount rate as a percentage (e.g., 10 would mean 10%).\n",
        "Use an if statement to check if the discount rate is within a valid range (0% to 100%).\n",
        "If the discount rate is valid, calculate the discounted price using the formula discounted_price = price * (1 - discount_rate/100).\n",
        "Print the original price and the discounted price.\n",
        "If the entered discount rate is invalid, use an else statement to print an error message."
      ]
    },
    {
      "cell_type": "code",
      "execution_count": null,
      "metadata": {
        "id": "Tljo5TQbdqbd"
      },
      "outputs": [],
      "source": []
    }
  ],
  "metadata": {
    "colab": {
      "provenance": []
    },
    "kernelspec": {
      "display_name": "Python 3",
      "name": "python3"
    },
    "language_info": {
      "codemirror_mode": {
        "name": "ipython",
        "version": 3
      },
      "file_extension": ".py",
      "mimetype": "text/x-python",
      "name": "python",
      "nbconvert_exporter": "python",
      "pygments_lexer": "ipython3",
      "version": "3.12.2"
    }
  },
  "nbformat": 4,
  "nbformat_minor": 0
}
