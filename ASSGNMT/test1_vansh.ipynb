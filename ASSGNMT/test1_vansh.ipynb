{
 "cells": [
  {
   "cell_type": "markdown",
   "metadata": {},
   "source": [
    "# **Python Practice**\n",
    "\n",
    "submitted by : VANSH DIXIT, BTECH CSE IOTBC-1A, ROLL: 60"
   ]
  },
  {
   "cell_type": "markdown",
   "metadata": {},
   "source": [
    "## Create all the Data Type of Python in different    `variable`.\n",
    "* Str\n",
    "* Int\n",
    "* FLoat\n",
    "* List\n",
    "* Tuple\n",
    "* Dict\n",
    "* Set"
   ]
  },
  {
   "cell_type": "code",
   "execution_count": 10,
   "metadata": {},
   "outputs": [],
   "source": [
    "var_str=\"vansh\"\n",
    "var_int=1\n",
    "var_float=1.3\n",
    "var_list=[1,2,3,4]\n",
    "var_tuple=(1,2,4,5)\n",
    "var_dict={\"a\":1,\"b\":2}\n",
    "var_set= {1,2,3,4}"
   ]
  },
  {
   "cell_type": "code",
   "execution_count": null,
   "metadata": {},
   "outputs": [],
   "source": []
  },
  {
   "cell_type": "markdown",
   "metadata": {},
   "source": [
    "## Create a list of your 5 friends and name its variable `friend`."
   ]
  },
  {
   "cell_type": "code",
   "execution_count": 2,
   "metadata": {},
   "outputs": [],
   "source": [
    "friend=[\"suryansh\",\"suryansh\",\"abhikalp\",\"harshit\",\"vasu\"]"
   ]
  },
  {
   "cell_type": "markdown",
   "metadata": {},
   "source": [
    "## Make them a `Set` and name it `set_friend`."
   ]
  },
  {
   "cell_type": "code",
   "execution_count": 3,
   "metadata": {},
   "outputs": [
    {
     "name": "stdout",
     "output_type": "stream",
     "text": [
      "{'harshit', 'vasu', 'abhikalp', 'suryansh'}\n"
     ]
    }
   ],
   "source": [
    "friend=[\"suryansh\",\"suryansh\",\"abhikalp\",\"harshit\",\"vasu\"]\n",
    "set_friend= set(friend)\n",
    "print(set_friend)"
   ]
  },
  {
   "cell_type": "markdown",
   "metadata": {},
   "source": [
    "## Create a dict of students with name `a, b, c, d, e, f` and the number is `20, 12, 14, 15, 18`. "
   ]
  },
  {
   "cell_type": "code",
   "execution_count": 12,
   "metadata": {},
   "outputs": [],
   "source": [
    "var_dict={\"a\":20,\"b\":12,\"c\":14,\"d\":15,\"e\":18,\"f\":0}"
   ]
  },
  {
   "cell_type": "markdown",
   "metadata": {},
   "source": [
    "## What are the rules of `variable`. "
   ]
  },
  {
   "cell_type": "code",
   "execution_count": 23,
   "metadata": {},
   "outputs": [],
   "source": [
    "## Variables should always start with an alphabet or an underscore and special characters or symbols can't be used except numbers later in the variable name. Keywords can't be used as variables. "
   ]
  },
  {
   "cell_type": "markdown",
   "metadata": {},
   "source": [
    "## Print the table of `5`."
   ]
  },
  {
   "cell_type": "code",
   "execution_count": 4,
   "metadata": {},
   "outputs": [
    {
     "name": "stdout",
     "output_type": "stream",
     "text": [
      "5x1=5\n",
      "5x2=10\n",
      "5x3=15\n",
      "5x4=20\n",
      "5x5=25\n",
      "5x6=30\n",
      "5x7=35\n",
      "5x8=40\n",
      "5x9=45\n",
      "5x10=50\n"
     ]
    }
   ],
   "source": [
    "for i in range(1,11):\n",
    "    print(f\"5x{i}={5*i}\")"
   ]
  },
  {
   "cell_type": "markdown",
   "metadata": {},
   "source": [
    "## Print your name `25 times`."
   ]
  },
  {
   "cell_type": "code",
   "execution_count": 5,
   "metadata": {},
   "outputs": [
    {
     "name": "stdout",
     "output_type": "stream",
     "text": [
      "vansh\n",
      "vansh\n",
      "vansh\n",
      "vansh\n",
      "vansh\n",
      "vansh\n",
      "vansh\n",
      "vansh\n",
      "vansh\n",
      "vansh\n",
      "vansh\n",
      "vansh\n",
      "vansh\n",
      "vansh\n",
      "vansh\n",
      "vansh\n",
      "vansh\n",
      "vansh\n",
      "vansh\n",
      "vansh\n",
      "vansh\n",
      "vansh\n",
      "vansh\n",
      "vansh\n",
      "vansh\n"
     ]
    }
   ],
   "source": [
    "for i in range(1,26):\n",
    "    print(\"vansh\")"
   ]
  },
  {
   "cell_type": "markdown",
   "metadata": {},
   "source": [
    "## Create a list of `Months` and run a while loop print all the names of present in the list until `March` after printing the march break the code."
   ]
  },
  {
   "cell_type": "code",
   "execution_count": 25,
   "metadata": {},
   "outputs": [
    {
     "name": "stdout",
     "output_type": "stream",
     "text": [
      "January\n",
      "February\n",
      "March\n"
     ]
    }
   ],
   "source": [
    "\n",
    "months = [\"January\", \"February\", \"March\", \"April\", \"May\", \"June\", \"July\", \"August\", \"September\", \"October\", \"November\", \"December\"]\n",
    "i= 0\n",
    "while i < len(months):\n",
    "    month = months[i]\n",
    "    print(month)\n",
    "    if month == \"March\":\n",
    "        break\n",
    "    i += 1\n",
    "\n",
    "    ## WITH HELP FROM CHATGPT\n",
    "\n",
    "\n",
    "   \n",
    "\n"
   ]
  },
  {
   "cell_type": "code",
   "execution_count": null,
   "metadata": {},
   "outputs": [],
   "source": []
  }
 ],
 "metadata": {
  "kernelspec": {
   "display_name": "Python 3",
   "language": "python",
   "name": "python3"
  },
  "language_info": {
   "codemirror_mode": {
    "name": "ipython",
    "version": 3
   },
   "file_extension": ".py",
   "mimetype": "text/x-python",
   "name": "python",
   "nbconvert_exporter": "python",
   "pygments_lexer": "ipython3",
   "version": "3.12.2"
  }
 },
 "nbformat": 4,
 "nbformat_minor": 2
}
